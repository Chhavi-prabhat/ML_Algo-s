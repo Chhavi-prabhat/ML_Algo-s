{
  "nbformat": 4,
  "nbformat_minor": 0,
  "metadata": {
    "colab": {
      "provenance": []
    },
    "kernelspec": {
      "name": "python3",
      "display_name": "Python 3"
    },
    "language_info": {
      "name": "python"
    }
  },
  "cells": [
    {
      "cell_type": "markdown",
      "source": [
        "**FEATURE ENGINEERING**\n",
        "\n",
        "\n",
        "ORDINAL ENCODING AND LABEL ENCODING"
      ],
      "metadata": {
        "id": "Vj7MI5FGkqng"
      }
    },
    {
      "cell_type": "code",
      "execution_count": 1,
      "metadata": {
        "id": "RZx3vUJ_jojr"
      },
      "outputs": [],
      "source": [
        "import pandas as pd\n",
        "import seaborn as sns\n",
        "from sklearn.model_selection import train_test_split\n",
        "from sklearn.preprocessing import OrdinalEncoder\n",
        "from sklearn.preprocessing import LabelEncoder\n",
        "tc = sns.load_dataset('titanic')[['embarked', 'class', 'alive']]\n",
        "tc['embarked'].fillna('S', inplace=True)\n",
        "x = tc[['embarked', 'class']]\n",
        "y = tc['alive']\n",
        "#x['embarked'].value_counts()\n",
        "# x['class'].value_counts()\n",
        "X_train, X_test, y_train, y_test = train_test_split(x, y, test_size=0.2, random_state=42)\n",
        "#OrdinalEncoding\n",
        "oe = OrdinalEncoder(categories=[['S', 'C', 'Q'], ['Third', 'Second', 'First']])\n",
        "oe.fit(X_train)\n",
        "X_train_encoded = oe.transform(X_train)\n",
        "X_test_encoded = oe.transform(X_test)\n",
        "#LabelEncoding\n",
        "le=LabelEncoder()\n",
        "le.fit(y_train)\n",
        "y_train_ed=le.transform(y_train)\n",
        "y_test_ed=le.transform(y_test)"
      ]
    },
    {
      "cell_type": "code",
      "source": [
        "#Checking values\n",
        "print(oe.categories_)\n",
        "print(le.classes_)"
      ],
      "metadata": {
        "colab": {
          "base_uri": "https://localhost:8080/"
        },
        "id": "7lNlKQA4k2uw",
        "outputId": "e6ee1993-e012-4c79-bb44-874dead0f48b"
      },
      "execution_count": 3,
      "outputs": [
        {
          "output_type": "stream",
          "name": "stdout",
          "text": [
            "[array(['S', 'C', 'Q'], dtype=object), array(['Third', 'Second', 'First'], dtype=object)]\n",
            "['no' 'yes']\n"
          ]
        }
      ]
    }
  ]
}