{
  "nbformat": 4,
  "nbformat_minor": 0,
  "metadata": {
    "colab": {
      "provenance": []
    },
    "kernelspec": {
      "name": "python3",
      "display_name": "Python 3"
    },
    "language_info": {
      "name": "python"
    }
  },
  "cells": [
    {
      "cell_type": "markdown",
      "source": [
        "**FEATURE ENGINEERING**\n",
        "\n",
        "\n",
        "ORDINAL ENCODING AND LABEL ENCODING"
      ],
      "metadata": {
        "id": "Vj7MI5FGkqng"
      }
    },
    {
      "cell_type": "code",
      "execution_count": 1,
      "metadata": {
        "id": "RZx3vUJ_jojr",
        "colab": {
          "base_uri": "https://localhost:8080/"
        },
        "outputId": "f3be511f-3478-410b-ee1e-dcd86d53c4fa"
      },
      "outputs": [
        {
          "output_type": "stream",
          "name": "stderr",
          "text": [
            "<ipython-input-1-6cc7905a8e92>:7: FutureWarning: A value is trying to be set on a copy of a DataFrame or Series through chained assignment using an inplace method.\n",
            "The behavior will change in pandas 3.0. This inplace method will never work because the intermediate object on which we are setting values always behaves as a copy.\n",
            "\n",
            "For example, when doing 'df[col].method(value, inplace=True)', try using 'df.method({col: value}, inplace=True)' or df[col] = df[col].method(value) instead, to perform the operation inplace on the original object.\n",
            "\n",
            "\n",
            "  tc['embarked'].fillna('S', inplace=True)\n"
          ]
        }
      ],
      "source": [
        "import pandas as pd\n",
        "import seaborn as sns\n",
        "from sklearn.model_selection import train_test_split\n",
        "from sklearn.preprocessing import OrdinalEncoder\n",
        "from sklearn.preprocessing import LabelEncoder\n",
        "tc = sns.load_dataset('titanic')[['embarked', 'class', 'alive']]\n",
        "tc['embarked'].fillna('S', inplace=True)\n",
        "x = tc[['embarked', 'class']]\n",
        "y = tc['alive']\n",
        "#x['embarked'].value_counts()\n",
        "# x['class'].value_counts()\n",
        "X_train, X_test, y_train, y_test = train_test_split(x, y, test_size=0.2, random_state=42)\n",
        "#OrdinalEncoding\n",
        "oe = OrdinalEncoder(categories=[['S', 'C', 'Q'], ['Third', 'Second', 'First']])\n",
        "oe.fit(X_train)\n",
        "X_train_encoded = oe.transform(X_train)\n",
        "X_test_encoded = oe.transform(X_test)\n",
        "#LabelEncoding\n",
        "le=LabelEncoder()\n",
        "le.fit(y_train)\n",
        "y_train_ed=le.transform(y_train)\n",
        "y_test_ed=le.transform(y_test)"
      ]
    },
    {
      "cell_type": "code",
      "source": [
        "#Checking values\n",
        "print(oe.categories_)\n",
        "print(le.classes_)"
      ],
      "metadata": {
        "colab": {
          "base_uri": "https://localhost:8080/"
        },
        "id": "7lNlKQA4k2uw",
        "outputId": "5d710c53-6b69-4949-bec6-49519ceee118"
      },
      "execution_count": 2,
      "outputs": [
        {
          "output_type": "stream",
          "name": "stdout",
          "text": [
            "[array(['S', 'C', 'Q'], dtype=object), array(['Third', 'Second', 'First'], dtype=object)]\n",
            "['no' 'yes']\n"
          ]
        }
      ]
    },
    {
      "cell_type": "code",
      "source": [
        "import pandas as pd\n",
        "import numpy as np\n",
        "import seaborn as sns\n",
        "from sklearn.model_selection import train_test_split\n",
        "from sklearn.compose import ColumnTransformer\n",
        "from sklearn.preprocessing import OrdinalEncoder, OneHotEncoder\n",
        "tc=sns.load_dataset('titanic')[['survived','pclass','sex','age','fare']]\n",
        "#preprocessing age\n",
        "tc['age'].fillna(tc['age'].mean(), inplace=True)\n",
        "#splitting into x and y\n",
        "x=tc[['pclass','sex','age','fare']]\n",
        "y=tc['survived']\n",
        "X_train,X_test, y_train,y_test=train_test_split(x,y,test_size=0.2)\n",
        "transformed=ColumnTransformer(transformers=[\n",
        "    ('tnf1', OrdinalEncoder(categories=[[1,2,3]]),['pclass']),\n",
        "    ('tnf2', OneHotEncoder(sparse_output=False, drop='first' ),['sex'])\n",
        "], remainder='passthrough')\n",
        "X_train_transformed=transformed.fit_transform(X_train)\n",
        "X_test_transformed=transformed.transform(X_test)"
      ],
      "metadata": {
        "colab": {
          "base_uri": "https://localhost:8080/"
        },
        "id": "sIDs4zy4hTI6",
        "outputId": "8ef7f840-0839-4075-f8fc-67d0e4e44292"
      },
      "execution_count": 3,
      "outputs": [
        {
          "output_type": "stream",
          "name": "stderr",
          "text": [
            "<ipython-input-3-d3d4bd9fd4b1>:9: FutureWarning: A value is trying to be set on a copy of a DataFrame or Series through chained assignment using an inplace method.\n",
            "The behavior will change in pandas 3.0. This inplace method will never work because the intermediate object on which we are setting values always behaves as a copy.\n",
            "\n",
            "For example, when doing 'df[col].method(value, inplace=True)', try using 'df.method({col: value}, inplace=True)' or df[col] = df[col].method(value) instead, to perform the operation inplace on the original object.\n",
            "\n",
            "\n",
            "  tc['age'].fillna(tc['age'].mean(), inplace=True)\n"
          ]
        }
      ]
    },
    {
      "cell_type": "code",
      "source": [
        "print(X_train_transformed)"
      ],
      "metadata": {
        "colab": {
          "base_uri": "https://localhost:8080/"
        },
        "id": "e4t7-c7chWxr",
        "outputId": "b72687c6-93c6-4c21-a9fb-f8a0d0ac11bc"
      },
      "execution_count": 4,
      "outputs": [
        {
          "output_type": "stream",
          "name": "stdout",
          "text": [
            "[[ 1.          0.         31.         26.25      ]\n",
            " [ 0.          1.         29.69911765 39.6       ]\n",
            " [ 0.          1.         50.         55.9       ]\n",
            " ...\n",
            " [ 0.          1.         27.         53.1       ]\n",
            " [ 0.          0.         60.         75.25      ]\n",
            " [ 1.          1.         21.         73.5       ]]\n"
          ]
        }
      ]
    },
    {
      "cell_type": "code",
      "source": [
        "tc.isnull().sum()\n",
        "print('Survived')\n",
        "print(tc['survived'].value_counts())\n",
        "print('pclass')\n",
        "print(tc['pclass'].value_counts())\n",
        "print('sex')\n",
        "print(tc['sex'].value_counts())"
      ],
      "metadata": {
        "colab": {
          "base_uri": "https://localhost:8080/"
        },
        "id": "Qss4oZ_ShZ8Y",
        "outputId": "c6891922-ff7f-47c9-c700-7d80c4cbd112"
      },
      "execution_count": 5,
      "outputs": [
        {
          "output_type": "stream",
          "name": "stdout",
          "text": [
            "Survived\n",
            "survived\n",
            "0    549\n",
            "1    342\n",
            "Name: count, dtype: int64\n",
            "pclass\n",
            "pclass\n",
            "3    491\n",
            "1    216\n",
            "2    184\n",
            "Name: count, dtype: int64\n",
            "sex\n",
            "sex\n",
            "male      577\n",
            "female    314\n",
            "Name: count, dtype: int64\n"
          ]
        }
      ]
    },
    {
      "cell_type": "code",
      "source": [],
      "metadata": {
        "id": "pWXFqcJmhdgc"
      },
      "execution_count": null,
      "outputs": []
    }
  ]
}